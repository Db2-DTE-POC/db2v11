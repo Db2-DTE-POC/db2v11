{
 "cells": [
  {
   "cell_type": "markdown",
   "metadata": {},
   "source": [
    "# Db2 Connection Document"
   ]
  },
  {
   "cell_type": "markdown",
   "metadata": {},
   "source": [
    "## Db2 Connection Statement\n",
    "This notebook contains the connect statement that will be used for connecting to Db2. The typical way of connecting to Db2 within a notebooks it to run the db2 notebook (`db2.ipynb`) and then issue the `%sql connect` statement:\n",
    "```sql\n",
    "%run db2.ipynb\n",
    "%sql connect to sample user ...\n",
    "```\n",
    "\n",
    "Rather than having to change the connect statement in every notebook, this one file can be changed and all of the other notebooks will use the value in here. Note that if you do reset a connection within a notebook, you will need to issue the `CONNECT` command again or run this notebook to re-connect.\n",
    "\n",
    "The `db2.ipynb` file is still used at the beginning of all notebooks to highlight the fact that we are using special code to allow Db2 commands to be issues from within Jupyter Notebooks."
   ]
  },
  {
   "cell_type": "markdown",
   "metadata": {},
   "source": [
    "## Instructions\n",
    "Fill in the fields below for either connecting to **Db2 on Cloud** or **Db2 Local**. Once you have updated the fields, **Save** this file using the **Diskette** icon found below the **File** menu. You **do not** have to execute the cells in this notebook. "
   ]
  },
  {
   "cell_type": "markdown",
   "metadata": {},
   "source": [
    "### Db2 on Cloud Users\n",
    "Review the [Db2 on Cloud](./Db2_on_Cloud/Db2_on_Cloud_Connection.ipynb) document to determine what your credentials are. Once you have a copy of your credentials, copy them **over** the `None` keyword below. **Note:** If you want to switch between Db2 on Cloud and Db2 Local, you need to set `db2id` to `None`, otherwise the script will default to connecting to the Db2 on Cloud instance."
   ]
  },
  {
   "cell_type": "code",
   "execution_count": null,
   "metadata": {},
   "outputs": [],
   "source": [
    "db2id = \\\n",
    "None"
   ]
  },
  {
   "cell_type": "markdown",
   "metadata": {},
   "source": [
    "### Db2 Local Users\n",
    "Update, the fields below with the proper `USERID`, `PASSWORD`, `DATABASE`, `HOST` and `PORT`. These fields are **already** filled in for use on a standalone system. When connecting to Db2 in a **shared** system, you will only need to update the `USERID` and `PASSWORD`."
   ]
  },
  {
   "cell_type": "code",
   "execution_count": null,
   "metadata": {},
   "outputs": [],
   "source": [
    "# Update Userid and Password if you are running on a shared system (JupyterHub)\n",
    "userid   = 'db2inst1'\n",
    "password = 'db2inst1'\n",
    "\n",
    "# These settings normally don't change unless you are running against a different system\n",
    "database = 'SAMPLE'\n",
    "host     = 'localhost'\n",
    "port     = '50000'"
   ]
  },
  {
   "cell_type": "markdown",
   "metadata": {},
   "source": [
    "### Connect to Db2\n",
    "This code will determine which `CONNECT` syntax to use based on the previous settings."
   ]
  },
  {
   "cell_type": "code",
   "execution_count": null,
   "metadata": {},
   "outputs": [],
   "source": [
    "if db2id == None:\n",
    "    %sql CONNECT TO {database} USER {userid} USING {password} HOST {host} PORT {port}\n",
    "else:\n",
    "    %sql CONNECT CREDENTIALS db2id"
   ]
  },
  {
   "cell_type": "markdown",
   "metadata": {},
   "source": [
    "### Check that the EMPLOYEE and DEPARTMENT table exist\n",
    "A lot of the examples depend on these two tables existing in the database. These tables will be created for you if they don't already exist. Note that they will not overwrite the existing Db2 samples tables."
   ]
  },
  {
   "cell_type": "code",
   "execution_count": null,
   "metadata": {},
   "outputs": [],
   "source": [
    "if sqlcode == 0:\n",
    "    %sql -sampledata"
   ]
  },
  {
   "cell_type": "markdown",
   "metadata": {},
   "source": [
    "#### Credits: IBM 2019, George Baklarz [baklarz@ca.ibm.com]"
   ]
  }
 ],
 "metadata": {
  "kernelspec": {
   "display_name": "Python 3",
   "language": "python",
   "name": "python3"
  },
  "language_info": {
   "codemirror_mode": {
    "name": "ipython",
    "version": 3
   },
   "file_extension": ".py",
   "mimetype": "text/x-python",
   "name": "python",
   "nbconvert_exporter": "python",
   "pygments_lexer": "ipython3",
   "version": "3.7.4"
  }
 },
 "nbformat": 4,
 "nbformat_minor": 2
}
